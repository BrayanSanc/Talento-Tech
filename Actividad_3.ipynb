{
  "nbformat": 4,
  "nbformat_minor": 0,
  "metadata": {
    "colab": {
      "provenance": [],
      "authorship_tag": "ABX9TyNXmwd7rfswfC1doJwg+0l5",
      "include_colab_link": true
    },
    "kernelspec": {
      "name": "python3",
      "display_name": "Python 3"
    },
    "language_info": {
      "name": "python"
    }
  },
  "cells": [
    {
      "cell_type": "markdown",
      "metadata": {
        "id": "view-in-github",
        "colab_type": "text"
      },
      "source": [
        "<a href=\"https://colab.research.google.com/github/BrayanSanc/Talento-Tech/blob/main/Actividad_3.ipynb\" target=\"_parent\"><img src=\"https://colab.research.google.com/assets/colab-badge.svg\" alt=\"Open In Colab\"/></a>"
      ]
    },
    {
      "cell_type": "code",
      "execution_count": 45,
      "metadata": {
        "id": "z2X4sbUpYgUD"
      },
      "outputs": [],
      "source": [
        "import keras\n",
        "from sklearn.datasets import make_classification\n",
        "from sklearn.model_selection import train_test_split"
      ]
    },
    {
      "cell_type": "code",
      "source": [
        "# Generar un conjunto de datos de clasificación sintético\n",
        "X, y = make_classification(n_samples=1000, n_features=5, n_classes=2)"
      ],
      "metadata": {
        "id": "1IT5fKkvZGhx"
      },
      "execution_count": 46,
      "outputs": []
    },
    {
      "cell_type": "code",
      "source": [
        "# Dividir los datos en conjuntos de entrenamiento y prueba\n",
        "X_train, X_test, y_train, y_test = train_test_split(X, y, test_size=0.2)"
      ],
      "metadata": {
        "id": "wKjq5rvea5Ii"
      },
      "execution_count": 47,
      "outputs": []
    },
    {
      "cell_type": "code",
      "source": [
        "# Convertir laas etiquetas a codificación one-hot\n",
        "y_train_categorical = keras.utils.to_categorical(y_train)\n",
        "y_test_categorical = keras.utils.to_categorical(y_test)"
      ],
      "metadata": {
        "id": "tM3KjLYobIqB"
      },
      "execution_count": 48,
      "outputs": []
    },
    {
      "cell_type": "code",
      "source": [
        "#Crear una instancia de un modelo secuencial de keras\n",
        "model= keras.models.Sequential()"
      ],
      "metadata": {
        "id": "RAxrgY8BbaZ4"
      },
      "execution_count": 49,
      "outputs": []
    },
    {
      "cell_type": "code",
      "source": [
        "# Añadir una capa oculta con 10 neuronas y activación Relu\n",
        "model.add(keras.layers.Dense(10,\n",
        "input_shape=(X_train.shape[1],),activation=\"relu\", ))\n",
        "# Añadir una capa oculta con 2 neuronas (una para cada clase) y activación softmax\n",
        "model.add(keras.layers.Dense(2, activation=\"softmax\"))"
      ],
      "metadata": {
        "id": "4VT2SVKHbnNd"
      },
      "execution_count": 50,
      "outputs": []
    },
    {
      "cell_type": "code",
      "source": [
        "# Compilar el modelo\n",
        "model.compile(optimizer='adam',\n",
        "loss='categorical_crossentropy',  metrics=['accuracy'])"
      ],
      "metadata": {
        "id": "pTFvA2mBcJbn"
      },
      "execution_count": 51,
      "outputs": []
    },
    {
      "cell_type": "code",
      "source": [
        "# Entrenar el modelo\n",
        "model.fit(X_train, y_train_categorical, epochs=10,\n",
        "batch_size=32, validation_data=(X_test, y_test_categorical))"
      ],
      "metadata": {
        "colab": {
          "base_uri": "https://localhost:8080/"
        },
        "id": "hhjBRLG1dzTy",
        "outputId": "61375b78-3a14-41d4-d586-3a08bb83d7fb"
      },
      "execution_count": 52,
      "outputs": [
        {
          "output_type": "stream",
          "name": "stdout",
          "text": [
            "Epoch 1/10\n",
            "25/25 [==============================] - 1s 11ms/step - loss: 0.7297 - accuracy: 0.4338 - val_loss: 0.6796 - val_accuracy: 0.5650\n",
            "Epoch 2/10\n",
            "25/25 [==============================] - 0s 3ms/step - loss: 0.6595 - accuracy: 0.6612 - val_loss: 0.6222 - val_accuracy: 0.7950\n",
            "Epoch 3/10\n",
            "25/25 [==============================] - 0s 3ms/step - loss: 0.6041 - accuracy: 0.8163 - val_loss: 0.5745 - val_accuracy: 0.8650\n",
            "Epoch 4/10\n",
            "25/25 [==============================] - 0s 3ms/step - loss: 0.5585 - accuracy: 0.8400 - val_loss: 0.5315 - val_accuracy: 0.8850\n",
            "Epoch 5/10\n",
            "25/25 [==============================] - 0s 3ms/step - loss: 0.5190 - accuracy: 0.8388 - val_loss: 0.4915 - val_accuracy: 0.8850\n",
            "Epoch 6/10\n",
            "25/25 [==============================] - 0s 3ms/step - loss: 0.4836 - accuracy: 0.8475 - val_loss: 0.4557 - val_accuracy: 0.8850\n",
            "Epoch 7/10\n",
            "25/25 [==============================] - 0s 3ms/step - loss: 0.4528 - accuracy: 0.8525 - val_loss: 0.4232 - val_accuracy: 0.8750\n",
            "Epoch 8/10\n",
            "25/25 [==============================] - 0s 3ms/step - loss: 0.4256 - accuracy: 0.8525 - val_loss: 0.3955 - val_accuracy: 0.8850\n",
            "Epoch 9/10\n",
            "25/25 [==============================] - 0s 4ms/step - loss: 0.4021 - accuracy: 0.8587 - val_loss: 0.3715 - val_accuracy: 0.8850\n",
            "Epoch 10/10\n",
            "25/25 [==============================] - 0s 5ms/step - loss: 0.3826 - accuracy: 0.8662 - val_loss: 0.3514 - val_accuracy: 0.8850\n"
          ]
        },
        {
          "output_type": "execute_result",
          "data": {
            "text/plain": [
              "<keras.src.callbacks.History at 0x7b8913314490>"
            ]
          },
          "metadata": {},
          "execution_count": 52
        }
      ]
    },
    {
      "cell_type": "code",
      "source": [
        "# Evaluar el modelo en el conjunto de prueba\n",
        "loss, accuracy = model.evaluate(X_test, y_test_categorical)"
      ],
      "metadata": {
        "colab": {
          "base_uri": "https://localhost:8080/"
        },
        "id": "5oc0_ViLeKoe",
        "outputId": "03955542-b19b-4aa7-cb96-1ed5a2d61fbc"
      },
      "execution_count": 53,
      "outputs": [
        {
          "output_type": "stream",
          "name": "stdout",
          "text": [
            "7/7 [==============================] - 0s 4ms/step - loss: 0.3514 - accuracy: 0.8850\n"
          ]
        }
      ]
    },
    {
      "cell_type": "code",
      "source": [
        "print(\"Pérdida en el conjunto de prueba:\", loss)\n",
        "print(\"Precisión en el conjunto de prueba:\", accuracy)"
      ],
      "metadata": {
        "colab": {
          "base_uri": "https://localhost:8080/"
        },
        "id": "6J6cJNOzekpW",
        "outputId": "3a22bad0-7fe7-4fe0-aa2b-4c59291deaad"
      },
      "execution_count": 54,
      "outputs": [
        {
          "output_type": "stream",
          "name": "stdout",
          "text": [
            "Pérdida en el conjunto de prueba: 0.35141006112098694\n",
            "Precisión en el conjunto de prueba: 0.8849999904632568\n"
          ]
        }
      ]
    }
  ]
}